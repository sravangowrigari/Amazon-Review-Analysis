{
 "cells": [
  {
   "cell_type": "code",
   "execution_count": null,
   "id": "5d203b76",
   "metadata": {},
   "outputs": [],
   "source": [
    "import pandas as pd\n",
    "from textblob import TextBlob\n",
    "import matplotlib.pyplot as plt\n",
    "from wordcloud import WordCloud\n",
    "import seaborn as sns"
   ]
  },
  {
   "cell_type": "code",
   "execution_count": null,
   "id": "8db94294",
   "metadata": {},
   "outputs": [],
   "source": [
    "# Load dataset\n",
    "df = pd.read_csv(\"amazon_reviews_sample.csv\")\n",
    "df.head()"
   ]
  },
  {
   "cell_type": "code",
   "execution_count": null,
   "id": "74050ad3",
   "metadata": {},
   "outputs": [],
   "source": [
    "# Sentiment Analysis\n",
    "df[\"polarity\"] = df[\"review_body\"].apply(lambda x: TextBlob(x).sentiment.polarity)\n",
    "df[\"subjectivity\"] = df[\"review_body\"].apply(lambda x: TextBlob(x).sentiment.subjectivity)\n",
    "\n",
    "def classify_sentiment(p):\n",
    "    if p > 0.1:\n",
    "        return \"Positive\"\n",
    "    elif p < -0.1:\n",
    "        return \"Negative\"\n",
    "    else:\n",
    "        return \"Neutral\"\n",
    "\n",
    "df[\"sentiment\"] = df[\"polarity\"].apply(classify_sentiment)\n",
    "df.head()"
   ]
  },
  {
   "cell_type": "code",
   "execution_count": null,
   "id": "c8098444",
   "metadata": {},
   "outputs": [],
   "source": [
    "# Sentiment Distribution Plot\n",
    "import seaborn as sns\n",
    "import matplotlib.pyplot as plt\n",
    "\n",
    "plt.figure(figsize=(6, 4))\n",
    "sns.countplot(x=\"sentiment\", data=df, palette=\"Set2\")\n",
    "plt.title(\"Sentiment Distribution\")\n",
    "plt.xlabel(\"Sentiment\")\n",
    "plt.ylabel(\"Count\")\n",
    "plt.tight_layout()\n",
    "plt.show()"
   ]
  },
  {
   "cell_type": "code",
   "execution_count": null,
   "id": "af360a7d",
   "metadata": {},
   "outputs": [],
   "source": [
    "# WordClouds\n",
    "positive_text = \" \".join(df[df[\"sentiment\"] == \"Positive\"][\"review_body\"])\n",
    "negative_text = \" \".join(df[df[\"sentiment\"] == \"Negative\"][\"review_body\"])\n",
    "\n",
    "plt.figure(figsize=(10, 5))\n",
    "plt.subplot(1, 2, 1)\n",
    "plt.imshow(WordCloud(background_color=\"white\").generate(positive_text))\n",
    "plt.axis(\"off\")\n",
    "plt.title(\"Positive Reviews WordCloud\")\n",
    "\n",
    "plt.subplot(1, 2, 2)\n",
    "plt.imshow(WordCloud(background_color=\"white\").generate(negative_text))\n",
    "plt.axis(\"off\")\n",
    "plt.title(\"Negative Reviews WordCloud\")\n",
    "\n",
    "plt.tight_layout()\n",
    "plt.show()"
   ]
  }
 ],
 "metadata": {},
 "nbformat": 4,
 "nbformat_minor": 5
}
